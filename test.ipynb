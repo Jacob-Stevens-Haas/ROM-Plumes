{
 "cells": [
  {
   "cell_type": "code",
   "execution_count": 1,
   "metadata": {},
   "outputs": [
    {
     "data": {
      "text/plain": [
       "<module 'ara_plumes.concentric_circle' from '/home/grisal/github/ARA-Plumes/ara_plumes/concentric_circle.py'>"
      ]
     },
     "execution_count": 1,
     "metadata": {},
     "output_type": "execute_result"
    }
   ],
   "source": [
    "import numpy as np\n",
    "import ara_plumes.concentric_circle as ic\n",
    "from importlib import reload\n",
    "reload(ic)"
   ]
  },
  {
   "cell_type": "code",
   "execution_count": 6,
   "metadata": {},
   "outputs": [],
   "source": [
    "def test_find_max_on_boundary():\n",
    "    axis = np.arange(5).reshape(-1, 1)\n",
    "    # arr is surface u = x*y in positive quadrant\n",
    "    arr = axis @ axis.T\n",
    "    radii = [x_dist * np.sqrt(2) for x_dist in axis.flatten()]\n",
    "    for x_dist, radius in zip(axis, radii):\n",
    "        max_val, amax = ic._find_max_on_boundary(arr, (0,0), radius)\n",
    "        # Max should be on the diagonal, i.e. x = y\n",
    "        assert max_val == x_dist ** 2\n",
    "        np.testing.assert_array_equal(amax, [x_dist, x_dist])\n",
    "    \n",
    "# test_find_max_on_boundary()"
   ]
  },
  {
   "cell_type": "code",
   "execution_count": 7,
   "metadata": {},
   "outputs": [],
   "source": [
    "axis = np.arange(5).reshape(-1, 1)\n",
    "# arr is surface u = x*y in positive quadrant\n",
    "arr = axis @ axis.T\n",
    "radii = [x_dist * np.sqrt(2) for x_dist in axis.flatten()]"
   ]
  },
  {
   "cell_type": "code",
   "execution_count": 18,
   "metadata": {},
   "outputs": [
    {
     "name": "stdout",
     "output_type": "stream",
     "text": [
      "[0] 0.0\n",
      "[1] 1.4142135623730951\n",
      "[4] 2.8284271247461903\n",
      "[9] 4.242640687119286\n",
      "[16] 5.656854249492381\n"
     ]
    },
    {
     "data": {
      "text/plain": [
       "array([[ 0,  0,  0,  0,  0],\n",
       "       [ 0,  1,  2,  3,  4],\n",
       "       [ 0,  2,  4,  6,  8],\n",
       "       [ 0,  3,  6,  9, 12],\n",
       "       [ 0,  4,  8, 12, 16]])"
      ]
     },
     "execution_count": 18,
     "metadata": {},
     "output_type": "execute_result"
    }
   ],
   "source": [
    "for x_dist, radius in zip(axis,radii):\n",
    "    print(x_dist**2,radius)\n",
    "\n",
    "arr"
   ]
  },
  {
   "cell_type": "code",
   "execution_count": 20,
   "metadata": {},
   "outputs": [
    {
     "name": "stdout",
     "output_type": "stream",
     "text": [
      "max_val 0\n",
      "amax [0 0]\n",
      "\n",
      "max_val 0\n",
      "amax [1 0]\n",
      "\n",
      "max_val 0\n",
      "amax [3 0]\n",
      "\n",
      "max_val 0\n",
      "amax [4 0]\n",
      "\n"
     ]
    },
    {
     "ename": "ValueError",
     "evalue": "zero-size array to reduction operation maximum which has no identity",
     "output_type": "error",
     "traceback": [
      "\u001b[0;31m---------------------------------------------------------------------------\u001b[0m",
      "\u001b[0;31mValueError\u001b[0m                                Traceback (most recent call last)",
      "Cell \u001b[0;32mIn[20], line 2\u001b[0m\n\u001b[1;32m      1\u001b[0m \u001b[38;5;28;01mfor\u001b[39;00m x_dist, radius \u001b[38;5;129;01min\u001b[39;00m \u001b[38;5;28mzip\u001b[39m(axis, radii):\n\u001b[0;32m----> 2\u001b[0m     max_val, amax \u001b[38;5;241m=\u001b[39m \u001b[43mic\u001b[49m\u001b[38;5;241;43m.\u001b[39;49m\u001b[43m_find_max_on_boundary\u001b[49m\u001b[43m(\u001b[49m\u001b[43marr\u001b[49m\u001b[43m,\u001b[49m\u001b[43m \u001b[49m\u001b[43m(\u001b[49m\u001b[38;5;241;43m0\u001b[39;49m\u001b[43m,\u001b[49m\u001b[38;5;241;43m0\u001b[39;49m\u001b[43m)\u001b[49m\u001b[43m,\u001b[49m\u001b[43m \u001b[49m\u001b[43mradius\u001b[49m\u001b[43m)\u001b[49m\n\u001b[1;32m      3\u001b[0m     \u001b[38;5;28mprint\u001b[39m(\u001b[38;5;124m\"\u001b[39m\u001b[38;5;124mmax_val\u001b[39m\u001b[38;5;124m\"\u001b[39m, max_val)\n\u001b[1;32m      4\u001b[0m     \u001b[38;5;28mprint\u001b[39m(\u001b[38;5;124m\"\u001b[39m\u001b[38;5;124mamax\u001b[39m\u001b[38;5;124m\"\u001b[39m, amax)\n",
      "File \u001b[0;32m~/github/ARA-Plumes/ara_plumes/concentric_circle.py:368\u001b[0m, in \u001b[0;36m_find_max_on_boundary\u001b[0;34m(array, center, r, n_points)\u001b[0m\n\u001b[1;32m    364\u001b[0m xy_circle \u001b[38;5;241m=\u001b[39m np\u001b[38;5;241m.\u001b[39marray(xy_circle)\u001b[38;5;241m.\u001b[39mround()\u001b[38;5;241m.\u001b[39mastype(\u001b[38;5;28mint\u001b[39m)\n\u001b[1;32m    366\u001b[0m xy_circle_vals \u001b[38;5;241m=\u001b[39m np\u001b[38;5;241m.\u001b[39marray([array[y, x] \u001b[38;5;28;01mfor\u001b[39;00m (x, y) \u001b[38;5;129;01min\u001b[39;00m xy_circle])\n\u001b[0;32m--> 368\u001b[0m max_val, max_idx \u001b[38;5;241m=\u001b[39m \u001b[43m_find_max_val_and_idx\u001b[49m\u001b[43m(\u001b[49m\u001b[43mxy_circle_vals\u001b[49m\u001b[43m)\u001b[49m\n\u001b[1;32m    370\u001b[0m max_indices \u001b[38;5;241m=\u001b[39m np\u001b[38;5;241m.\u001b[39munique(xy_circle[max_idx], axis\u001b[38;5;241m=\u001b[39m\u001b[38;5;241m0\u001b[39m)\u001b[38;5;241m.\u001b[39mreshape(\u001b[38;5;241m-\u001b[39m\u001b[38;5;241m1\u001b[39m)  \u001b[38;5;66;03m# something funky\u001b[39;00m\n\u001b[1;32m    372\u001b[0m \u001b[38;5;28;01mreturn\u001b[39;00m max_val, max_indices\n",
      "File \u001b[0;32m~/github/ARA-Plumes/ara_plumes/concentric_circle.py:348\u001b[0m, in \u001b[0;36m_find_max_on_boundary.<locals>._find_max_val_and_idx\u001b[0;34m(arr)\u001b[0m\n\u001b[1;32m    347\u001b[0m \u001b[38;5;28;01mdef\u001b[39;00m \u001b[38;5;21m_find_max_val_and_idx\u001b[39m(arr):\n\u001b[0;32m--> 348\u001b[0m     max_value \u001b[38;5;241m=\u001b[39m \u001b[43mnp\u001b[49m\u001b[38;5;241;43m.\u001b[39;49m\u001b[43mmax\u001b[49m\u001b[43m(\u001b[49m\u001b[43marr\u001b[49m\u001b[43m)\u001b[49m\n\u001b[1;32m    349\u001b[0m     max_indices \u001b[38;5;241m=\u001b[39m np\u001b[38;5;241m.\u001b[39mwhere(arr \u001b[38;5;241m==\u001b[39m max_value)[\u001b[38;5;241m0\u001b[39m]\n\u001b[1;32m    351\u001b[0m     \u001b[38;5;28;01mreturn\u001b[39;00m max_value, max_indices\n",
      "File \u001b[0;32m~/github/ARA-Plumes/env/lib/python3.10/site-packages/numpy/core/fromnumeric.py:2810\u001b[0m, in \u001b[0;36mmax\u001b[0;34m(a, axis, out, keepdims, initial, where)\u001b[0m\n\u001b[1;32m   2692\u001b[0m \u001b[38;5;129m@array_function_dispatch\u001b[39m(_max_dispatcher)\n\u001b[1;32m   2693\u001b[0m \u001b[38;5;129m@set_module\u001b[39m(\u001b[38;5;124m'\u001b[39m\u001b[38;5;124mnumpy\u001b[39m\u001b[38;5;124m'\u001b[39m)\n\u001b[1;32m   2694\u001b[0m \u001b[38;5;28;01mdef\u001b[39;00m \u001b[38;5;21mmax\u001b[39m(a, axis\u001b[38;5;241m=\u001b[39m\u001b[38;5;28;01mNone\u001b[39;00m, out\u001b[38;5;241m=\u001b[39m\u001b[38;5;28;01mNone\u001b[39;00m, keepdims\u001b[38;5;241m=\u001b[39mnp\u001b[38;5;241m.\u001b[39m_NoValue, initial\u001b[38;5;241m=\u001b[39mnp\u001b[38;5;241m.\u001b[39m_NoValue,\n\u001b[1;32m   2695\u001b[0m          where\u001b[38;5;241m=\u001b[39mnp\u001b[38;5;241m.\u001b[39m_NoValue):\n\u001b[1;32m   2696\u001b[0m \u001b[38;5;250m    \u001b[39m\u001b[38;5;124;03m\"\"\"\u001b[39;00m\n\u001b[1;32m   2697\u001b[0m \u001b[38;5;124;03m    Return the maximum of an array or maximum along an axis.\u001b[39;00m\n\u001b[1;32m   2698\u001b[0m \n\u001b[0;32m   (...)\u001b[0m\n\u001b[1;32m   2808\u001b[0m \u001b[38;5;124;03m    5\u001b[39;00m\n\u001b[1;32m   2809\u001b[0m \u001b[38;5;124;03m    \"\"\"\u001b[39;00m\n\u001b[0;32m-> 2810\u001b[0m     \u001b[38;5;28;01mreturn\u001b[39;00m \u001b[43m_wrapreduction\u001b[49m\u001b[43m(\u001b[49m\u001b[43ma\u001b[49m\u001b[43m,\u001b[49m\u001b[43m \u001b[49m\u001b[43mnp\u001b[49m\u001b[38;5;241;43m.\u001b[39;49m\u001b[43mmaximum\u001b[49m\u001b[43m,\u001b[49m\u001b[43m \u001b[49m\u001b[38;5;124;43m'\u001b[39;49m\u001b[38;5;124;43mmax\u001b[39;49m\u001b[38;5;124;43m'\u001b[39;49m\u001b[43m,\u001b[49m\u001b[43m \u001b[49m\u001b[43maxis\u001b[49m\u001b[43m,\u001b[49m\u001b[43m \u001b[49m\u001b[38;5;28;43;01mNone\u001b[39;49;00m\u001b[43m,\u001b[49m\u001b[43m \u001b[49m\u001b[43mout\u001b[49m\u001b[43m,\u001b[49m\n\u001b[1;32m   2811\u001b[0m \u001b[43m                          \u001b[49m\u001b[43mkeepdims\u001b[49m\u001b[38;5;241;43m=\u001b[39;49m\u001b[43mkeepdims\u001b[49m\u001b[43m,\u001b[49m\u001b[43m \u001b[49m\u001b[43minitial\u001b[49m\u001b[38;5;241;43m=\u001b[39;49m\u001b[43minitial\u001b[49m\u001b[43m,\u001b[49m\u001b[43m \u001b[49m\u001b[43mwhere\u001b[49m\u001b[38;5;241;43m=\u001b[39;49m\u001b[43mwhere\u001b[49m\u001b[43m)\u001b[49m\n",
      "File \u001b[0;32m~/github/ARA-Plumes/env/lib/python3.10/site-packages/numpy/core/fromnumeric.py:88\u001b[0m, in \u001b[0;36m_wrapreduction\u001b[0;34m(obj, ufunc, method, axis, dtype, out, **kwargs)\u001b[0m\n\u001b[1;32m     85\u001b[0m         \u001b[38;5;28;01melse\u001b[39;00m:\n\u001b[1;32m     86\u001b[0m             \u001b[38;5;28;01mreturn\u001b[39;00m reduction(axis\u001b[38;5;241m=\u001b[39maxis, out\u001b[38;5;241m=\u001b[39mout, \u001b[38;5;241m*\u001b[39m\u001b[38;5;241m*\u001b[39mpasskwargs)\n\u001b[0;32m---> 88\u001b[0m \u001b[38;5;28;01mreturn\u001b[39;00m \u001b[43mufunc\u001b[49m\u001b[38;5;241;43m.\u001b[39;49m\u001b[43mreduce\u001b[49m\u001b[43m(\u001b[49m\u001b[43mobj\u001b[49m\u001b[43m,\u001b[49m\u001b[43m \u001b[49m\u001b[43maxis\u001b[49m\u001b[43m,\u001b[49m\u001b[43m \u001b[49m\u001b[43mdtype\u001b[49m\u001b[43m,\u001b[49m\u001b[43m \u001b[49m\u001b[43mout\u001b[49m\u001b[43m,\u001b[49m\u001b[43m \u001b[49m\u001b[38;5;241;43m*\u001b[39;49m\u001b[38;5;241;43m*\u001b[39;49m\u001b[43mpasskwargs\u001b[49m\u001b[43m)\u001b[49m\n",
      "\u001b[0;31mValueError\u001b[0m: zero-size array to reduction operation maximum which has no identity"
     ]
    }
   ],
   "source": [
    "for x_dist, radius in zip(axis, radii):\n",
    "    max_val, amax = ic._find_max_on_boundary(arr, (0,0), radius)\n",
    "    print(\"max_val\", max_val)\n",
    "    print(\"amax\", amax)\n",
    "    print()\n",
    "    # Max should be on the diagonal, i.e. x = y\n",
    "    # assert max_val == x_dist ** 2\n",
    "    # np.testing.assert_array_equal(amax, [x_dist, x_dist])"
   ]
  },
  {
   "cell_type": "code",
   "execution_count": 22,
   "metadata": {},
   "outputs": [],
   "source": [
    "d=5\n",
    "def _get_x_values(col, r, n_points):\n",
    "    x0 = np.max([0, col - r])\n",
    "    x1 = np.min([d, col + r])\n",
    "    return np.linspace(x0, x1, n_points)"
   ]
  },
  {
   "cell_type": "code",
   "execution_count": 25,
   "metadata": {},
   "outputs": [
    {
     "data": {
      "text/plain": [
       "array([0.        , 0.01428499, 0.02856997, 0.04285496, 0.05713994,\n",
       "       0.07142493, 0.08570991, 0.0999949 , 0.11427988, 0.12856487,\n",
       "       0.14284985, 0.15713484, 0.17141983, 0.18570481, 0.1999898 ,\n",
       "       0.21427478, 0.22855977, 0.24284475, 0.25712974, 0.27141472,\n",
       "       0.28569971, 0.2999847 , 0.31426968, 0.32855467, 0.34283965,\n",
       "       0.35712464, 0.37140962, 0.38569461, 0.39997959, 0.41426458,\n",
       "       0.42854956, 0.44283455, 0.45711954, 0.47140452, 0.48568951,\n",
       "       0.49997449, 0.51425948, 0.52854446, 0.54282945, 0.55711443,\n",
       "       0.57139942, 0.5856844 , 0.59996939, 0.61425438, 0.62853936,\n",
       "       0.64282435, 0.65710933, 0.67139432, 0.6856793 , 0.69996429,\n",
       "       0.71424927, 0.72853426, 0.74281924, 0.75710423, 0.77138922,\n",
       "       0.7856742 , 0.79995919, 0.81424417, 0.82852916, 0.84281414,\n",
       "       0.85709913, 0.87138411, 0.8856691 , 0.89995409, 0.91423907,\n",
       "       0.92852406, 0.94280904, 0.95709403, 0.97137901, 0.985664  ,\n",
       "       0.99994898, 1.01423397, 1.02851895, 1.04280394, 1.05708893,\n",
       "       1.07137391, 1.0856589 , 1.09994388, 1.11422887, 1.12851385,\n",
       "       1.14279884, 1.15708382, 1.17136881, 1.18565379, 1.19993878,\n",
       "       1.21422377, 1.22850875, 1.24279374, 1.25707872, 1.27136371,\n",
       "       1.28564869, 1.29993368, 1.31421866, 1.32850365, 1.34278863,\n",
       "       1.35707362, 1.37135861, 1.38564359, 1.39992858, 1.41421356])"
      ]
     },
     "execution_count": 25,
     "metadata": {},
     "output_type": "execute_result"
    }
   ],
   "source": [
    "x_vals = _get_x_values(0,np.sqrt(2),100)\n",
    "x_vals"
   ]
  },
  {
   "cell_type": "code",
   "execution_count": 26,
   "metadata": {},
   "outputs": [],
   "source": [
    "r = np.sqrt(2)\n",
    "col=0\n",
    "row = 0\n",
    "\n",
    "y0 = np.sqrt(r**2 - (x_vals-col)**2)+row\n",
    "y1 =-np.sqrt(r**2 - (x_vals-col)**2)+row"
   ]
  },
  {
   "cell_type": "code",
   "execution_count": 29,
   "metadata": {},
   "outputs": [
    {
     "data": {
      "text/plain": [
       "array([1., 1., 1., 1., 1., 1., 1., 1., 1., 1., 1., 1., 1., 1., 1., 1., 1.,\n",
       "       1., 1., 1., 1., 1., 1., 1., 1., 1., 1., 1., 1., 1., 1., 1., 1., 1.,\n",
       "       1., 1., 1., 1., 1., 1., 1., 1., 1., 1., 1., 1., 1., 1., 1., 1., 1.,\n",
       "       1., 1., 1., 1., 1., 1., 1., 1., 1., 1., 1., 1., 1., 1., 1., 1., 1.,\n",
       "       1., 1., 1., 1., 1., 1., 1., 1., 1., 1., 1., 1., 1., 1., 1., 1., 1.,\n",
       "       1., 1., 1., 1., 1., 1., 1., 1., 0., 0., 0., 0., 0., 0., 0.])"
      ]
     },
     "execution_count": 29,
     "metadata": {},
     "output_type": "execute_result"
    }
   ],
   "source": [
    "y0.round()"
   ]
  },
  {
   "cell_type": "code",
   "execution_count": 30,
   "metadata": {},
   "outputs": [
    {
     "data": {
      "text/plain": [
       "array([-1., -1., -1., -1., -1., -1., -1., -1., -1., -1., -1., -1., -1.,\n",
       "       -1., -1., -1., -1., -1., -1., -1., -1., -1., -1., -1., -1., -1.,\n",
       "       -1., -1., -1., -1., -1., -1., -1., -1., -1., -1., -1., -1., -1.,\n",
       "       -1., -1., -1., -1., -1., -1., -1., -1., -1., -1., -1., -1., -1.,\n",
       "       -1., -1., -1., -1., -1., -1., -1., -1., -1., -1., -1., -1., -1.,\n",
       "       -1., -1., -1., -1., -1., -1., -1., -1., -1., -1., -1., -1., -1.,\n",
       "       -1., -1., -1., -1., -1., -1., -1., -1., -1., -1., -1., -1., -1.,\n",
       "       -1., -1., -0., -0., -0., -0., -0., -0.,  0.])"
      ]
     },
     "execution_count": 30,
     "metadata": {},
     "output_type": "execute_result"
    }
   ],
   "source": [
    "y1.round()"
   ]
  },
  {
   "cell_type": "code",
   "execution_count": null,
   "metadata": {},
   "outputs": [],
   "source": []
  }
 ],
 "metadata": {
  "kernelspec": {
   "display_name": "env",
   "language": "python",
   "name": "python3"
  },
  "language_info": {
   "codemirror_mode": {
    "name": "ipython",
    "version": 3
   },
   "file_extension": ".py",
   "mimetype": "text/x-python",
   "name": "python",
   "nbconvert_exporter": "python",
   "pygments_lexer": "ipython3",
   "version": "3.10.12"
  }
 },
 "nbformat": 4,
 "nbformat_minor": 2
}
